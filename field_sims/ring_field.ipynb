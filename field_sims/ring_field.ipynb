{
 "cells": [
  {
   "cell_type": "code",
   "execution_count": 62,
   "metadata": {},
   "outputs": [
    {
     "data": {
      "application/vnd.jupyter.widget-view+json": {
       "model_id": "021664cb384642f49f1e24be92619b37",
       "version_major": 2,
       "version_minor": 0
      },
      "text/plain": [
       "interactive(children=(FloatSlider(value=0.2, description='z', max=0.5), FloatSlider(value=0.14, description='t…"
      ]
     },
     "metadata": {},
     "output_type": "display_data"
    },
    {
     "data": {
      "text/plain": [
       "<function __main__.interact_fxn(z, t)>"
      ]
     },
     "execution_count": 62,
     "metadata": {},
     "output_type": "execute_result"
    }
   ],
   "source": [
    "from scipy.integrate import cumtrapz\n",
    "import matplotlib.pyplot as plt\n",
    "import numpy as np\n",
    "from ipywidgets import interact\n",
    "\n",
    "%matplotlib inline\n",
    "plt.style.use('seaborn-poster')\n",
    "\n",
    "# Constants\n",
    "mu = 1.2566 * 10 ** (-6)        # Vacuum permeability in H/m\n",
    "c = 3 * 10 ** 8                 # Speed of light in m/s\n",
    "\n",
    "# Code parameters\n",
    "R = 0.1                         # Radius of coil in m\n",
    "I0 = 20                         # Amplitude of current\n",
    "f = 100000                      # Frequency of current in kHz\n",
    "\n",
    "# Time, position, current and dI/dt\n",
    "X = np.arange(-0.2,0.2,0.02)    # Range of field we are simulating over\n",
    "Y = np.arange(-0.2,0.2,0.02) \n",
    "X, Y = np.meshgrid(X, Y)\n",
    "T = np.arange(0,2,1/f)      # Time range and step size\n",
    "I = I0 * np.cos(2 * np.pi * f * T)\n",
    "DI = -I0 * 2 * np.pi * f * np.sin(2 * np.pi * f * T)\n",
    "\n",
    "\n",
    "def interact_fxn(z, t):\n",
    "    def Bfield(x,y):\n",
    "        Bz = np.array([])                # Magnetic field\n",
    "\n",
    "        # Angle phi (polar angle from 0 to 2pi)\n",
    "        Phi = np.arange(0, 2*np.pi, 0.01) \n",
    "        DBz = np.array([])\n",
    "\n",
    "        for phi in Phi:\n",
    "            # retarded time t' = t-R/c\n",
    "            tr = int(f * (t - ((R * np.cos(phi)-x)**2 + (R * np.sin(phi) - y)**2 + z**2) / c))\n",
    "\n",
    "            # static component of B that depends on I\n",
    "            dBz_I = I[tr] * R * (R - x * np.cos(phi) - y * np.sin(phi))/((R * np.cos(phi)-x)**2 + (R * np.sin(phi) - y)**2 + z**2)**(3/2)\n",
    "\n",
    "            # x and y direction static fields \n",
    "            # dBx = (R * np.cos(phi) * z)/((R * np.cos(phi)-x)**2 + (R * np.sin(phi) - y)**2 + z**2)**(3/2)\n",
    "            # dBy = (R * np.sin(phi) * z)/((R * np.cos(phi)-x)**2 + (R * np.sin(phi) - y)**2 + z**2)**(3/2)\n",
    "\n",
    "            # time dep. term of B that depends on dI/dt\n",
    "            dBz_dI = DI[tr] * R / c * (R - x * np.cos(phi) - y * np.sin(phi))/((R * np.cos(phi)-x)**2 + (R * np.sin(phi) - y)**2 + z**2)\n",
    "            DBz = np.append(DBz, dBz_I + dBz_dI)\n",
    "\n",
    "        # integrate function over the range of phi \n",
    "        Bz = np.append(Bz, mu / 4 / np.pi * cumtrapz(DBz, Phi)[-1])\n",
    "        return Bz\n",
    "\n",
    "    Bz = np.array([Bfield(x,y) for x,y in zip(np.ravel(X), np.ravel(Y))]).reshape(X.shape)\n",
    "        \n",
    "    fig = plt.figure()\n",
    "    ax = fig.add_subplot(111, projection='3d')\n",
    "    ax.set_title('Bz at z=%s, for Coil R=%s' % (z, R))\n",
    "    ax.plot_surface(X, Y, Bz)\n",
    "    ax.set_xlabel('Position X (m)', labelpad=20)\n",
    "    ax.set_ylabel('Position Y (m)', labelpad=20)\n",
    "    plt.show()\n",
    "\n",
    "interact(interact_fxn, z=(0,0.5,0.1), t = (0.1, 0.2, 0.02))"
   ]
  },
  {
   "cell_type": "code",
   "execution_count": null,
   "metadata": {},
   "outputs": [],
   "source": []
  }
 ],
 "metadata": {
  "kernelspec": {
   "display_name": "Python 3.10.0 64-bit",
   "language": "python",
   "name": "python3"
  },
  "language_info": {
   "codemirror_mode": {
    "name": "ipython",
    "version": 3
   },
   "file_extension": ".py",
   "mimetype": "text/x-python",
   "name": "python",
   "nbconvert_exporter": "python",
   "pygments_lexer": "ipython3",
   "version": "3.10.0"
  },
  "orig_nbformat": 4,
  "vscode": {
   "interpreter": {
    "hash": "cd0def74f3fdba5c33b20b5a33121cadd484e757bcffaf0f666ecfb1a1324858"
   }
  }
 },
 "nbformat": 4,
 "nbformat_minor": 2
}
