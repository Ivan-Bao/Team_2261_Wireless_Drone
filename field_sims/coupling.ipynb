{
 "cells": [
  {
   "cell_type": "code",
   "execution_count": 3,
   "metadata": {},
   "outputs": [
    {
     "name": "stdout",
     "output_type": "stream",
     "text": [
      "M = 5.011637732794961e-06, error = 1.0947014552717775e-14\n"
     ]
    }
   ],
   "source": [
    "# For calculating the mutual inductance between 2 (soon 4) coils of wire\n",
    "# Currently assumes N=1\n",
    "\n",
    "import numpy as np\n",
    "from scipy.integrate import cumtrapz, dblquad # scipy version = 1.7.3\n",
    "import scipy\n",
    "\n",
    "# Constants\n",
    "mu_0 = 1.2566 * 10 ** (-6)        # Vacuum permeability in H/m\n",
    "\n",
    "# coil constants (all in meters)\n",
    "R_1 = 0.05\n",
    "R_2 = 0.025\n",
    "r = 0.03\n",
    "z = 0.05\n",
    "\n",
    "# calculate M\n",
    "\n",
    "def f(phi2, phi1): # this is the Neumann formula for two circles with radii R_1 and R_2 with parallel axes, offset by r and z\n",
    "    return np.cos(phi1 - phi2) / np.sqrt( R_1**2 + R_2**2 + r**2 + z**2 - 2*R_1*R_2*np.cos(phi1 - phi2) - 2*r*(R_1*np.sin(phi1) - R_2*np.sin(phi2)) )\n",
    "\n",
    "M, M_error = mu_0 / (4 * np.pi) * np.array(dblquad(f, 0, 2*np.pi, lambda x: 0, lambda x: 2*np.pi))\n",
    "\n",
    "print(f\"M = {M}, error = {M_error}\")"
   ]
  }
 ],
 "metadata": {
  "kernelspec": {
   "display_name": "Python 3.9.2 64-bit",
   "language": "python",
   "name": "python3"
  },
  "language_info": {
   "codemirror_mode": {
    "name": "ipython",
    "version": 3
   },
   "file_extension": ".py",
   "mimetype": "text/x-python",
   "name": "python",
   "nbconvert_exporter": "python",
   "pygments_lexer": "ipython3",
   "version": "3.9.2"
  },
  "orig_nbformat": 4,
  "vscode": {
   "interpreter": {
    "hash": "82ed002fa2d4956f5c6aec99bcefe0f73a9f79882f3c9e2319b14958a5896ac5"
   }
  }
 },
 "nbformat": 4,
 "nbformat_minor": 2
}
